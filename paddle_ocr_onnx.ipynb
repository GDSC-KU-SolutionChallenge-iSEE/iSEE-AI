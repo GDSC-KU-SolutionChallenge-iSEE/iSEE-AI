{
  "cells": [
    {
      "cell_type": "code",
      "execution_count": 9,
      "metadata": {
        "colab": {
          "base_uri": "https://localhost:8080/"
        },
        "id": "UkrBx-VTf3jw",
        "outputId": "3fe9c840-6e0e-498b-f5af-9b6163301058"
      },
      "outputs": [
        {
          "name": "stdout",
          "output_type": "stream",
          "text": [
            "Drive already mounted at /content/drive; to attempt to forcibly remount, call drive.mount(\"/content/drive\", force_remount=True).\n"
          ]
        }
      ],
      "source": [
        "from google.colab import drive\n",
        "\n",
        "\n",
        "drive.mount('/content/drive')"
      ]
    },
    {
      "cell_type": "code",
      "execution_count": null,
      "metadata": {
        "colab": {
          "base_uri": "https://localhost:8080/"
        },
        "id": "3j9rtA7ielgt",
        "outputId": "9f2bca01-8299-41b0-879b-baca48ef584b"
      },
      "outputs": [],
      "source": [
        "!pip install paddleocr -q\n",
        "!python3 -m pip install paddlepaddle-gpu -f https://paddlepaddle.org.cn/whl/stable.html -q"
      ]
    },
    {
      "cell_type": "code",
      "execution_count": null,
      "metadata": {
        "colab": {
          "base_uri": "https://localhost:8080/"
        },
        "id": "iys0CLHFeiqp",
        "outputId": "443aa2ae-0152-48da-a029-66e92c6ad18c"
      },
      "outputs": [],
      "source": [
        "from paddleocr import PaddleOCR, draw_ocr\n",
        "import paddle\n",
        "import os\n",
        "\n",
        "gpu_available  = paddle.device.is_compiled_with_cuda()\n",
        "print(\"GPU available:\", gpu_available)\n",
        "\n",
        "# ocr = PaddleOCR(lang=\"korean\",use_gpu=True) # The model file will be downloaded automatically when executed for the first time\n",
        "ocr = PaddleOCR(lang=\"korean\",use_gpu=True) # The model file will be downloaded automatically when executed for the first time\n",
        "result = []\n",
        "import time\n",
        "start = time.time()\n",
        "\n",
        "img_path = '/content/drive/MyDrive/bus2.jpg'\n",
        "print(img_path)\n",
        "result.extend(ocr.ocr(img_path,cls=False))\n",
        "end = time.time()\n",
        "elapsed_time = end - start\n",
        "print(f\"작업에 걸린 시간: {elapsed_time}초\")\n",
        "\n",
        "# Recognition and detection can be performed separately through parameter control\n",
        "# result = ocr.ocr(img_path, det=False)  Only perform recognition\n",
        "# result = ocr.ocr(img_path, rec=False)  Only perform detection\n",
        "# Print detection frame and recognition result\n",
        "for line in result:\n",
        "    print(line) # 없으면 None\n",
        "\n"
      ]
    },
    {
      "cell_type": "code",
      "execution_count": null,
      "metadata": {
        "colab": {
          "base_uri": "https://localhost:8080/"
        },
        "id": "tmB8-Yb-kXn1",
        "outputId": "bd562dc8-522c-4925-927c-54f4357c6ce8"
      },
      "outputs": [],
      "source": [
        "start = time.time()\n",
        "print(img_path)\n",
        "result = ocr.ocr(img_path,cls=False)\n",
        "end = time.time()\n",
        "elapsed_time = end - start\n",
        "print(f\"작업에 걸린 시간: {elapsed_time}초\")\n",
        "\n",
        "len(result)\n"
      ]
    },
    {
      "cell_type": "code",
      "execution_count": null,
      "metadata": {
        "colab": {
          "base_uri": "https://localhost:8080/"
        },
        "id": "HWmesQdHV6R4",
        "outputId": "9fed462d-1787-4873-d9f2-282cca95f67c"
      },
      "outputs": [],
      "source": [
        "result"
      ]
    },
    {
      "cell_type": "code",
      "execution_count": null,
      "metadata": {
        "colab": {
          "base_uri": "https://localhost:8080/"
        },
        "id": "8er_mPV-e70T",
        "outputId": "2d9599d1-5f37-4a57-a78b-c3f908a9768b"
      },
      "outputs": [],
      "source": [
        "!paddleocr --image_dir /content/drive/MyDrive/iSEE/data/Training/원천데이터/test5.png --lang=korean"
      ]
    },
    {
      "cell_type": "code",
      "execution_count": null,
      "metadata": {
        "id": "m5kvTKa2b0pZ"
      },
      "outputs": [],
      "source": [
        "#######################\n",
        "# ONNX\n",
        "#######################\n",
        "# Require : image at \"/content/drive/MyDrive/bus2.jpg\""
      ]
    },
    {
      "cell_type": "code",
      "execution_count": 23,
      "metadata": {
        "colab": {
          "base_uri": "https://localhost:8080/"
        },
        "id": "RbWH4DRFh5eb",
        "outputId": "f8a8f2eb-7994-49c8-ee0a-66b374a4b7a2"
      },
      "outputs": [
        {
          "name": "stdout",
          "output_type": "stream",
          "text": [
            "\u001b[2K     \u001b[90m━━━━━━━━━━━━━━━━━━━━━━━━━━━━━━━━━━━━━━━━\u001b[0m \u001b[32m4.9/4.9 MB\u001b[0m \u001b[31m23.6 MB/s\u001b[0m eta \u001b[36m0:00:00\u001b[0m\n",
            "\u001b[2K     \u001b[90m━━━━━━━━━━━━━━━━━━━━━━━━━━━━━━━━━━━━━━━━\u001b[0m \u001b[32m46.0/46.0 kB\u001b[0m \u001b[31m6.1 MB/s\u001b[0m eta \u001b[36m0:00:00\u001b[0m\n",
            "\u001b[2K     \u001b[90m━━━━━━━━━━━━━━━━━━━━━━━━━━━━━━━━━━━━━━━━\u001b[0m \u001b[32m86.8/86.8 kB\u001b[0m \u001b[31m11.5 MB/s\u001b[0m eta \u001b[36m0:00:00\u001b[0m\n",
            "\u001b[?25h"
          ]
        }
      ],
      "source": [
        "!python -m pip install paddle2onnx -q\n",
        "!python -m pip install onnxruntime==1.12.0 -q"
      ]
    },
    {
      "cell_type": "code",
      "execution_count": null,
      "metadata": {
        "colab": {
          "base_uri": "https://localhost:8080/"
        },
        "id": "3tulQZ1FYPm-",
        "outputId": "3b2972a4-4e3b-4415-dd96-5faa1a11a2a8"
      },
      "outputs": [],
      "source": [
        "!git clone https://github.com/PaddlePaddle/PaddleOCR\n",
        "import os\n",
        "os.chdir('/content/PaddleOCR')\n",
        "!pwd"
      ]
    },
    {
      "cell_type": "code",
      "execution_count": null,
      "metadata": {
        "colab": {
          "base_uri": "https://localhost:8080/"
        },
        "id": "_dKN0dIFXfgC",
        "outputId": "62bee505-801c-474a-a548-8bf14d61f290"
      },
      "outputs": [],
      "source": [
        "!wget -nc -P ./inference https://paddleocr.bj.bcebos.com/PP-OCRv3/english/en_PP-OCRv3_det_infer.tar\n",
        "!cd ./inference && tar xf en_PP-OCRv3_det_infer.tar && cd ..\n",
        "\n",
        "!wget -nc  -P ./inference https://paddleocr.bj.bcebos.com/PP-OCRv3/english/en_PP-OCRv3_rec_infer.tar\n",
        "!cd ./inference && tar xf en_PP-OCRv3_rec_infer.tar && cd ..\n",
        "\n",
        "!wget -nc  -P ./inference https://paddleocr.bj.bcebos.com/dygraph_v2.0/ch/ch_ppocr_mobile_v2.0_cls_infer.tar\n",
        "!cd ./inference && tar xf ch_ppocr_mobile_v2.0_cls_infer.tar && cd .."
      ]
    },
    {
      "cell_type": "code",
      "execution_count": null,
      "metadata": {
        "id": "pjL7j9u8Xwfs"
      },
      "outputs": [],
      "source": [
        "!paddle2onnx --model_dir ./inference/en_PP-OCRv3_det_infer \\\n",
        "--model_filename inference.pdmodel \\\n",
        "--params_filename inference.pdiparams \\\n",
        "--save_file ./inference/det_onnx/model.onnx \\\n",
        "--opset_version 10 \\\n",
        "--input_shape_dict=\"{'x':[-1,3,-1,-1]}\" \\\n",
        "--enable_onnx_checker True\n",
        "\n",
        "!paddle2onnx --model_dir ./inference/en_PP-OCRv3_rec_infer \\\n",
        "--model_filename inference.pdmodel \\\n",
        "--params_filename inference.pdiparams \\\n",
        "--save_file ./inference/rec_onnx/model.onnx \\\n",
        "--opset_version 10 \\\n",
        "--input_shape_dict=\"{'x':[-1,3,-1,-1]}\" \\\n",
        "--enable_onnx_checker True\n",
        "\n",
        "!paddle2onnx --model_dir ./inference/ch_ppocr_mobile_v2.0_cls_infer \\\n",
        "--model_filename inference.pdmodel \\\n",
        "--params_filename inference.pdiparams \\\n",
        "--save_file ./inference/cls_onnx/model.onnx \\\n",
        "--opset_version 10 \\\n",
        "--input_shape_dict=\"{'x':[-1,3,-1,-1]}\" \\\n",
        "--enable_onnx_checker True"
      ]
    },
    {
      "cell_type": "code",
      "execution_count": null,
      "metadata": {
        "id": "qBFqZT_MY0KM"
      },
      "outputs": [],
      "source": [
        "!python infer/predict_system.py --use_gpu=True --use_onnx=True \\\n",
        "--det_model_dir=./inference/det_onnx/model.onnx  \\\n",
        "--rec_model_dir=./inference/rec_onnx/model.onnx  \\\n",
        "--cls_model_dir=./inference/cls_onnx/model.onnx  \\\n",
        "--image_dir='/content/drive/MyDrive/bus2.jpg' \\\n",
        "--rec_char_dict_path=ppocr/utils/dict/korean_dict.txt\n"
      ]
    }
  ],
  "metadata": {
    "accelerator": "GPU",
    "colab": {
      "gpuType": "T4",
      "machine_shape": "hm",
      "provenance": []
    },
    "kernelspec": {
      "display_name": "Python 3",
      "name": "python3"
    },
    "language_info": {
      "name": "python"
    }
  },
  "nbformat": 4,
  "nbformat_minor": 0
}
